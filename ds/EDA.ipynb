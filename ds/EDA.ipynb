{
 "cells": [
  {
   "cell_type": "markdown",
   "id": "e56f6f84",
   "metadata": {},
   "source": [
    "# Imports and Definitions of functions"
   ]
  },
  {
   "cell_type": "code",
   "execution_count": 68,
   "id": "bee1aa32",
   "metadata": {},
   "outputs": [],
   "source": [
    "import pandas as pd\n",
    "from tqdm.notebook import tqdm as tqdm_notebook\n",
    "import re\n",
    "from collections import defaultdict"
   ]
  },
  {
   "cell_type": "markdown",
   "id": "8c8d165d",
   "metadata": {},
   "source": [
    "# Data reading"
   ]
  },
  {
   "cell_type": "code",
   "execution_count": 173,
   "id": "40159271",
   "metadata": {},
   "outputs": [],
   "source": [
    "FILE_ORIGIN = 'dblpv13.json'\n",
    "FILE_PREPROCESSED = 'data.json'"
   ]
  },
  {
   "cell_type": "markdown",
   "id": "1c49d9c9",
   "metadata": {},
   "source": [
    "Используйте этот скрипт один раз, чтобы создать удобочитаемый json"
   ]
  },
  {
   "cell_type": "code",
   "execution_count": 88,
   "id": "33afccea",
   "metadata": {},
   "outputs": [
    {
     "data": {
      "application/vnd.jupyter.widget-view+json": {
       "model_id": "038b518e982e47b4ad975fb1df1a731b",
       "version_major": 2,
       "version_minor": 0
      },
      "text/plain": [
       "  0%|          | 0/450000000 [00:00<?, ?it/s]"
      ]
     },
     "metadata": {},
     "output_type": "display_data"
    }
   ],
   "source": [
    "# with open(FILE_ORIGIN, 'r') as f_origin, open(FILE_PREPROCESSED, 'w+') as f_preprocessed:\n",
    "#     for line in tqdm_notebook(f_origin, total=450000000):\n",
    "#         new_line = re.sub(r'NumberInt\\((\\d*)\\)', r'\\1', line)\n",
    "#         if new_line in ('[\\n', ']\\n'):\n",
    "#             new_line = ''\n",
    "#         if new_line == '},\\n':\n",
    "#             new_line = '}\\n'\n",
    "#         else:\n",
    "#             new_line = new_line[:-1]\n",
    "#         f_preprocessed.write(new_line)"
   ]
  },
  {
   "cell_type": "code",
   "execution_count": 91,
   "id": "34f309c2",
   "metadata": {},
   "outputs": [
    {
     "data": {
      "application/vnd.jupyter.widget-view+json": {
       "model_id": "de550583e0e3464f86e263293d0e0372",
       "version_major": 2,
       "version_minor": 0
      },
      "text/plain": [
       "  0%|          | 0/5 [00:00<?, ?it/s]"
      ]
     },
     "metadata": {},
     "output_type": "display_data"
    }
   ],
   "source": [
    "CHUNKSIZE = 100000\n",
    "MAX_OBSERVATIONS = 500000 #Set to 55000000 if want all rows\n",
    "df = pd.DataFrame()\n",
    "with pd.read_json(FILE_PREPROCESSED, orient='records', lines=True, chunksize=CHUNKSIZE, nrows=MAX_OBSERVATIONS) as reader:\n",
    "    for chunk in tqdm_notebook(reader, total=MAX_OBSERVATIONS // CHUNKSIZE):\n",
    "        df = pd.concat([df, pd.DataFrame(chunk)], ignore_index=True)"
   ]
  },
  {
   "cell_type": "markdown",
   "id": "136604ee",
   "metadata": {},
   "source": [
    "# EDA"
   ]
  },
  {
   "cell_type": "code",
   "execution_count": 93,
   "id": "2316dd6e",
   "metadata": {},
   "outputs": [
    {
     "data": {
      "text/html": [
       "<div>\n",
       "<style scoped>\n",
       "    .dataframe tbody tr th:only-of-type {\n",
       "        vertical-align: middle;\n",
       "    }\n",
       "\n",
       "    .dataframe tbody tr th {\n",
       "        vertical-align: top;\n",
       "    }\n",
       "\n",
       "    .dataframe thead th {\n",
       "        text-align: right;\n",
       "    }\n",
       "</style>\n",
       "<table border=\"1\" class=\"dataframe\">\n",
       "  <thead>\n",
       "    <tr style=\"text-align: right;\">\n",
       "      <th></th>\n",
       "      <th>_id</th>\n",
       "      <th>title</th>\n",
       "      <th>venue</th>\n",
       "      <th>year</th>\n",
       "      <th>keywords</th>\n",
       "      <th>n_citation</th>\n",
       "      <th>lang</th>\n",
       "      <th>authors</th>\n",
       "      <th>fos</th>\n",
       "      <th>page_start</th>\n",
       "      <th>page_end</th>\n",
       "      <th>volume</th>\n",
       "      <th>issue</th>\n",
       "      <th>issn</th>\n",
       "      <th>isbn</th>\n",
       "      <th>doi</th>\n",
       "      <th>pdf</th>\n",
       "      <th>url</th>\n",
       "      <th>abstract</th>\n",
       "      <th>references</th>\n",
       "    </tr>\n",
       "  </thead>\n",
       "  <tbody>\n",
       "    <tr>\n",
       "      <th>150634</th>\n",
       "      <td>53e999bbb7602d970220016d</td>\n",
       "      <td>Report on customs treatment of computer software</td>\n",
       "      <td>{'sid': 'journals/clsr', 't': 'J', 'raw': 'Com...</td>\n",
       "      <td>1986.0</td>\n",
       "      <td>[]</td>\n",
       "      <td>0.0</td>\n",
       "      <td>en</td>\n",
       "      <td>[{'_id': '53f39cacdabfae4b34a9e4d5', 'name': '...</td>\n",
       "      <td>NaN</td>\n",
       "      <td>6</td>\n",
       "      <td>7</td>\n",
       "      <td>1</td>\n",
       "      <td>5</td>\n",
       "      <td>Computer Law and Security Review: The Internat...</td>\n",
       "      <td></td>\n",
       "      <td>10.1016/0267-3649(86)90004-X</td>\n",
       "      <td>None</td>\n",
       "      <td>[http://dx.doi.org/10.1016/0267-3649(86)90004-...</td>\n",
       "      <td></td>\n",
       "      <td>NaN</td>\n",
       "    </tr>\n",
       "    <tr>\n",
       "      <th>47621</th>\n",
       "      <td>53e99822b7602d9702045753</td>\n",
       "      <td>The array features</td>\n",
       "      <td>{'_id': '555036e57cea80f9541656e0', 'raw': 'Co...</td>\n",
       "      <td>1996.0</td>\n",
       "      <td>[parallel computer, particular choice, array f...</td>\n",
       "      <td>0.0</td>\n",
       "      <td>en</td>\n",
       "      <td>[{'name': 'John Reid', '_id': '5601b9f445cedb3...</td>\n",
       "      <td>[Array processing, Matrix calculus, Programmin...</td>\n",
       "      <td>323</td>\n",
       "      <td>331</td>\n",
       "      <td>18</td>\n",
       "      <td>4</td>\n",
       "      <td></td>\n",
       "      <td></td>\n",
       "      <td>10.1016/0920-5489(96)01010-0</td>\n",
       "      <td>None</td>\n",
       "      <td>[http://dx.doi.org/10.1016/0920-5489(96)01010-0]</td>\n",
       "      <td>The array features were never controversial du...</td>\n",
       "      <td>NaN</td>\n",
       "    </tr>\n",
       "    <tr>\n",
       "      <th>83624</th>\n",
       "      <td>53e998a9b7602d97020e3836</td>\n",
       "      <td>A Generalized ABFT Technique Using a Fault Tol...</td>\n",
       "      <td>{'sid': 'JOURNAL OF CIRCUITS SYSTEMS AND COMPU...</td>\n",
       "      <td>2007.0</td>\n",
       "      <td>[fault tolerance, back propagation, MLP networ...</td>\n",
       "      <td>6.0</td>\n",
       "      <td>en</td>\n",
       "      <td>[{'_id': '53f42ec0dabfaedd74d48881', 'name': '...</td>\n",
       "      <td>[Convolutional code, Function approximation, C...</td>\n",
       "      <td>337</td>\n",
       "      <td>356</td>\n",
       "      <td>16</td>\n",
       "      <td>3</td>\n",
       "      <td>0218-1266</td>\n",
       "      <td></td>\n",
       "      <td>10.1142/S0218126607003708</td>\n",
       "      <td>None</td>\n",
       "      <td>[http://dx.doi.org/10.1142/S0218126607003708, ...</td>\n",
       "      <td>In this paper, a measure of sensitivity is def...</td>\n",
       "      <td>[53e9a562b7602d9702e85a4f, 53e9afccb7602d9703a...</td>\n",
       "    </tr>\n",
       "    <tr>\n",
       "      <th>379969</th>\n",
       "      <td>53e99d0cb7602d97025c3fd4</td>\n",
       "      <td>Building-up of system level ESD modeling: Impa...</td>\n",
       "      <td>{'_id': '539e72148314ff4cf4994374', 'type': 0,...</td>\n",
       "      <td>2013.0</td>\n",
       "      <td>[]</td>\n",
       "      <td>28.0</td>\n",
       "      <td>en</td>\n",
       "      <td>[{'_id': '53f4315cdabfaeb22f43aa1d', 'name': '...</td>\n",
       "      <td>[Capacitance, Decoupling (cosmology), Waveform...</td>\n",
       "      <td>221</td>\n",
       "      <td>228</td>\n",
       "      <td>53</td>\n",
       "      <td>2</td>\n",
       "      <td>0026-2714</td>\n",
       "      <td></td>\n",
       "      <td>10.1016/j.microrel.2012.04.012</td>\n",
       "      <td>None</td>\n",
       "      <td>[http://dx.doi.org/10.1016/j.microrel.2012.04....</td>\n",
       "      <td>Résumé We present a methodology for precise me...</td>\n",
       "      <td>[558c0534e4b0cfb70a1b2ae6]</td>\n",
       "    </tr>\n",
       "    <tr>\n",
       "      <th>439477</th>\n",
       "      <td>53e99dfdb7602d97026bd339</td>\n",
       "      <td>Automatic parameter selection for denoising al...</td>\n",
       "      <td>{'_id': '555036f27cea80f954168664', 'type': 0,...</td>\n",
       "      <td>2010.0</td>\n",
       "      <td>[tid2008 database show, computationally heavy,...</td>\n",
       "      <td>334.0</td>\n",
       "      <td>en</td>\n",
       "      <td>[{'_id': '542a7577dabfae646d564de0', 'name': '...</td>\n",
       "      <td>[Noise reduction, Singular value decomposition...</td>\n",
       "      <td>3116</td>\n",
       "      <td>3132</td>\n",
       "      <td>19</td>\n",
       "      <td>12</td>\n",
       "      <td>1941-0042</td>\n",
       "      <td></td>\n",
       "      <td>10.1109/TIP.2010.2052820</td>\n",
       "      <td>None</td>\n",
       "      <td>[http://dx.doi.org/10.1109/TIP.2010.2052820, h...</td>\n",
       "      <td>Across the field of inverse problems in image ...</td>\n",
       "      <td>[558ad05f84ae84d265bfca97, 53e9ae0bb7602d97038...</td>\n",
       "    </tr>\n",
       "  </tbody>\n",
       "</table>\n",
       "</div>"
      ],
      "text/plain": [
       "                             _id  \\\n",
       "150634  53e999bbb7602d970220016d   \n",
       "47621   53e99822b7602d9702045753   \n",
       "83624   53e998a9b7602d97020e3836   \n",
       "379969  53e99d0cb7602d97025c3fd4   \n",
       "439477  53e99dfdb7602d97026bd339   \n",
       "\n",
       "                                                    title  \\\n",
       "150634   Report on customs treatment of computer software   \n",
       "47621                                  The array features   \n",
       "83624   A Generalized ABFT Technique Using a Fault Tol...   \n",
       "379969  Building-up of system level ESD modeling: Impa...   \n",
       "439477  Automatic parameter selection for denoising al...   \n",
       "\n",
       "                                                    venue    year  \\\n",
       "150634  {'sid': 'journals/clsr', 't': 'J', 'raw': 'Com...  1986.0   \n",
       "47621   {'_id': '555036e57cea80f9541656e0', 'raw': 'Co...  1996.0   \n",
       "83624   {'sid': 'JOURNAL OF CIRCUITS SYSTEMS AND COMPU...  2007.0   \n",
       "379969  {'_id': '539e72148314ff4cf4994374', 'type': 0,...  2013.0   \n",
       "439477  {'_id': '555036f27cea80f954168664', 'type': 0,...  2010.0   \n",
       "\n",
       "                                                 keywords  n_citation lang  \\\n",
       "150634                                                 []         0.0   en   \n",
       "47621   [parallel computer, particular choice, array f...         0.0   en   \n",
       "83624   [fault tolerance, back propagation, MLP networ...         6.0   en   \n",
       "379969                                                 []        28.0   en   \n",
       "439477  [tid2008 database show, computationally heavy,...       334.0   en   \n",
       "\n",
       "                                                  authors  \\\n",
       "150634  [{'_id': '53f39cacdabfae4b34a9e4d5', 'name': '...   \n",
       "47621   [{'name': 'John Reid', '_id': '5601b9f445cedb3...   \n",
       "83624   [{'_id': '53f42ec0dabfaedd74d48881', 'name': '...   \n",
       "379969  [{'_id': '53f4315cdabfaeb22f43aa1d', 'name': '...   \n",
       "439477  [{'_id': '542a7577dabfae646d564de0', 'name': '...   \n",
       "\n",
       "                                                      fos page_start page_end  \\\n",
       "150634                                                NaN          6        7   \n",
       "47621   [Array processing, Matrix calculus, Programmin...        323      331   \n",
       "83624   [Convolutional code, Function approximation, C...        337      356   \n",
       "379969  [Capacitance, Decoupling (cosmology), Waveform...        221      228   \n",
       "439477  [Noise reduction, Singular value decomposition...       3116     3132   \n",
       "\n",
       "       volume issue                                               issn isbn  \\\n",
       "150634      1     5  Computer Law and Security Review: The Internat...        \n",
       "47621      18     4                                                           \n",
       "83624      16     3                                          0218-1266        \n",
       "379969     53     2                                          0026-2714        \n",
       "439477     19    12                                          1941-0042        \n",
       "\n",
       "                                   doi   pdf  \\\n",
       "150634    10.1016/0267-3649(86)90004-X  None   \n",
       "47621     10.1016/0920-5489(96)01010-0  None   \n",
       "83624        10.1142/S0218126607003708  None   \n",
       "379969  10.1016/j.microrel.2012.04.012  None   \n",
       "439477        10.1109/TIP.2010.2052820  None   \n",
       "\n",
       "                                                      url  \\\n",
       "150634  [http://dx.doi.org/10.1016/0267-3649(86)90004-...   \n",
       "47621    [http://dx.doi.org/10.1016/0920-5489(96)01010-0]   \n",
       "83624   [http://dx.doi.org/10.1142/S0218126607003708, ...   \n",
       "379969  [http://dx.doi.org/10.1016/j.microrel.2012.04....   \n",
       "439477  [http://dx.doi.org/10.1109/TIP.2010.2052820, h...   \n",
       "\n",
       "                                                 abstract  \\\n",
       "150634                                                      \n",
       "47621   The array features were never controversial du...   \n",
       "83624   In this paper, a measure of sensitivity is def...   \n",
       "379969  Résumé We present a methodology for precise me...   \n",
       "439477  Across the field of inverse problems in image ...   \n",
       "\n",
       "                                               references  \n",
       "150634                                                NaN  \n",
       "47621                                                 NaN  \n",
       "83624   [53e9a562b7602d9702e85a4f, 53e9afccb7602d9703a...  \n",
       "379969                         [558c0534e4b0cfb70a1b2ae6]  \n",
       "439477  [558ad05f84ae84d265bfca97, 53e9ae0bb7602d97038...  "
      ]
     },
     "execution_count": 93,
     "metadata": {},
     "output_type": "execute_result"
    }
   ],
   "source": [
    "df.sample(5)"
   ]
  },
  {
   "cell_type": "code",
   "execution_count": 94,
   "id": "064f5caa",
   "metadata": {},
   "outputs": [
    {
     "data": {
      "text/plain": [
       "Index(['_id', 'title', 'venue', 'year', 'keywords', 'n_citation', 'lang',\n",
       "       'authors', 'fos', 'page_start', 'page_end', 'volume', 'issue', 'issn',\n",
       "       'isbn', 'doi', 'pdf', 'url', 'abstract', 'references'],\n",
       "      dtype='object')"
      ]
     },
     "execution_count": 94,
     "metadata": {},
     "output_type": "execute_result"
    }
   ],
   "source": [
    "df.columns"
   ]
  },
  {
   "cell_type": "code",
   "execution_count": 110,
   "id": "dc954e45",
   "metadata": {},
   "outputs": [
    {
     "data": {
      "text/plain": [
       "500000"
      ]
     },
     "execution_count": 110,
     "metadata": {},
     "output_type": "execute_result"
    }
   ],
   "source": [
    "df._id.nunique()"
   ]
  },
  {
   "cell_type": "code",
   "execution_count": 128,
   "id": "0652ae67",
   "metadata": {},
   "outputs": [],
   "source": [
    "df['venue_keys'] = df.venue.apply(lambda x: list(dict(x).keys()) if isinstance(x, dict) else [])"
   ]
  },
  {
   "cell_type": "code",
   "execution_count": 134,
   "id": "d226204d",
   "metadata": {},
   "outputs": [],
   "source": [
    "venue_keys = defaultdict(int)\n",
    "for val in df.venue_keys:\n",
    "    for key in val:\n",
    "        venue_keys[key] += 1"
   ]
  },
  {
   "cell_type": "code",
   "execution_count": 139,
   "id": "7748005c",
   "metadata": {},
   "outputs": [
    {
     "name": "stdout",
     "output_type": "stream",
     "text": [
      "Статистика по venue:\n",
      "type встречался 425136 раз\n",
      "_id встречался 426541 раз\n",
      "name_d встречался 205684 раз\n",
      "raw встречался 495618 раз\n",
      "raw_zh встречался 59240 раз\n",
      "publisher встречался 47491 раз\n",
      "sid встречался 54666 раз\n",
      "issn встречался 50477 раз\n",
      "t встречался 54580 раз\n",
      "online_issn встречался 16790 раз\n",
      "name_s встречался 177 раз\n",
      "name встречался 657 раз\n",
      "src встречался 16 раз\n"
     ]
    }
   ],
   "source": [
    "print(\"Статистика по venue:\")\n",
    "for key, occurance in venue_keys.items():\n",
    "    print(f'{key} встречался {occurance} раз')"
   ]
  },
  {
   "cell_type": "code",
   "execution_count": 141,
   "id": "95dd445a",
   "metadata": {},
   "outputs": [],
   "source": [
    "keywords = defaultdict(int)\n",
    "for val in df.keywords:\n",
    "    if not isinstance(val, list):\n",
    "        keywords['nothing'] += 1\n",
    "    else:\n",
    "        for key in val:\n",
    "            keywords[key] += 1"
   ]
  },
  {
   "cell_type": "code",
   "execution_count": 151,
   "id": "8db6b69e",
   "metadata": {},
   "outputs": [
    {
     "name": "stdout",
     "output_type": "stream",
     "text": [
      "Статистика по top keywords:\n",
      "data mining встречался 8094 раз\n",
      "computer science встречался 6149 раз\n",
      "real time встречался 5576 раз\n",
      "computational complexity встречался 5571 раз\n",
      "feature extraction встречался 5351 раз\n",
      "internet встречался 5202 раз\n",
      "satisfiability встречался 5121 раз\n",
      "neural network встречался 4272 раз\n",
      "quality of service встречался 4127 раз\n",
      "protocols встречался 4045 раз\n"
     ]
    }
   ],
   "source": [
    "print(\"Статистика по top keywords:\")\n",
    "for key in sorted(keywords.keys(), key=lambda x: keywords[x], reverse=True)[:10]:\n",
    "    print(f'{key} встречался {keywords[key]} раз')"
   ]
  },
  {
   "cell_type": "code",
   "execution_count": 152,
   "id": "7c5bb61b",
   "metadata": {},
   "outputs": [
    {
     "name": "stdout",
     "output_type": "stream",
     "text": [
      "147\n"
     ]
    }
   ],
   "source": [
    "print(keywords['nothing'])"
   ]
  },
  {
   "cell_type": "code",
   "execution_count": 171,
   "id": "cb3021f5",
   "metadata": {},
   "outputs": [],
   "source": [
    "authors_keys = defaultdict(int)\n",
    "for val in df.authors:\n",
    "    if not isinstance(val, list):\n",
    "        authors_keys['noone'] += 1\n",
    "    else:\n",
    "        for dic in val:\n",
    "            for key in dict(dic):\n",
    "                authors_keys[key] += 1"
   ]
  },
  {
   "cell_type": "code",
   "execution_count": 172,
   "id": "a2ea7dd6",
   "metadata": {},
   "outputs": [
    {
     "name": "stdout",
     "output_type": "stream",
     "text": [
      "Статистика по authors:\n",
      "noone встречался 3129 раз\n",
      "_id встречался 1293241 раз\n",
      "name встречался 1318668 раз\n",
      "org встречался 683420 раз\n",
      "gid встречался 509455 раз\n",
      "oid встречался 25175 раз\n",
      "orgid встречался 562592 раз\n",
      "sid встречался 37961 раз\n",
      "email встречался 190274 раз\n",
      "orgs встречался 314092 раз\n",
      "orcid встречался 47590 раз\n",
      "bio встречался 19692 раз\n",
      "name_zh встречался 411 раз\n",
      "org_zh встречался 408 раз\n",
      "oid_zh встречался 26 раз\n",
      "orgs_zh встречался 71 раз\n"
     ]
    }
   ],
   "source": [
    "print(\"Статистика по authors:\")\n",
    "for key, occurance in authors_keys.items():\n",
    "    print(f'{key} встречался {occurance} раз')"
   ]
  },
  {
   "cell_type": "code",
   "execution_count": 157,
   "id": "16e83f5f",
   "metadata": {},
   "outputs": [],
   "source": [
    "keywords_fos = defaultdict(int)\n",
    "for val in df.fos:\n",
    "    if not isinstance(val, list):\n",
    "        keywords_fos['nothing'] += 1\n",
    "    else:\n",
    "        for key in val:\n",
    "            keywords_fos[key] += 1"
   ]
  },
  {
   "cell_type": "code",
   "execution_count": 158,
   "id": "f137e5e6",
   "metadata": {},
   "outputs": [
    {
     "name": "stdout",
     "output_type": "stream",
     "text": [
      "Статистика по top keywords_fos:\n",
      "Computer science встречался 280921 раз\n",
      "Mathematics встречался 98092 раз\n",
      "Artificial intelligence встречался 81806 раз\n",
      "Algorithm встречался 38111 раз\n",
      "nothing встречался 37151 раз\n",
      "Engineering встречался 28961 раз\n",
      "Discrete mathematics встречался 28528 раз\n",
      "Computer vision встречался 27672 раз\n",
      "Computer network встречался 27395 раз\n",
      "Combinatorics встречался 23680 раз\n"
     ]
    }
   ],
   "source": [
    "print(\"Статистика по top keywords_fos:\")\n",
    "for key in sorted(keywords_fos.keys(), key=lambda x: keywords_fos[x], reverse=True)[:10]:\n",
    "    print(f'{key} встречался {keywords_fos[key]} раз')"
   ]
  },
  {
   "cell_type": "code",
   "execution_count": 159,
   "id": "af16bd03",
   "metadata": {},
   "outputs": [
    {
     "data": {
      "text/plain": [
       "7780"
      ]
     },
     "execution_count": 159,
     "metadata": {},
     "output_type": "execute_result"
    }
   ],
   "source": [
    "df.issn.nunique()"
   ]
  },
  {
   "cell_type": "code",
   "execution_count": 163,
   "id": "fb946a26",
   "metadata": {},
   "outputs": [
    {
     "data": {
      "text/plain": [
       "(7781,)"
      ]
     },
     "execution_count": 163,
     "metadata": {},
     "output_type": "execute_result"
    }
   ],
   "source": [
    "df.issn.drop_duplicates().shape"
   ]
  },
  {
   "cell_type": "code",
   "execution_count": 164,
   "id": "4fca479d",
   "metadata": {},
   "outputs": [
    {
     "data": {
      "text/plain": [
       "(14552,)"
      ]
     },
     "execution_count": 164,
     "metadata": {},
     "output_type": "execute_result"
    }
   ],
   "source": [
    "df.isbn.drop_duplicates().shape"
   ]
  },
  {
   "cell_type": "code",
   "execution_count": 165,
   "id": "0db8b3d8",
   "metadata": {},
   "outputs": [
    {
     "data": {
      "text/plain": [
       "14551"
      ]
     },
     "execution_count": 165,
     "metadata": {},
     "output_type": "execute_result"
    }
   ],
   "source": [
    "df.isbn.nunique()"
   ]
  },
  {
   "cell_type": "code",
   "execution_count": 166,
   "id": "eb745840",
   "metadata": {},
   "outputs": [
    {
     "data": {
      "text/plain": [
       "398433"
      ]
     },
     "execution_count": 166,
     "metadata": {},
     "output_type": "execute_result"
    }
   ],
   "source": [
    "df.doi.nunique()"
   ]
  },
  {
   "cell_type": "code",
   "execution_count": 167,
   "id": "cb20d3db",
   "metadata": {},
   "outputs": [
    {
     "data": {
      "text/plain": [
       "(398434,)"
      ]
     },
     "execution_count": 167,
     "metadata": {},
     "output_type": "execute_result"
    }
   ],
   "source": [
    "df.doi.drop_duplicates().shape"
   ]
  },
  {
   "cell_type": "code",
   "execution_count": 168,
   "id": "d640543d",
   "metadata": {},
   "outputs": [
    {
     "data": {
      "text/plain": [
       "141884"
      ]
     },
     "execution_count": 168,
     "metadata": {},
     "output_type": "execute_result"
    }
   ],
   "source": [
    "df.pdf.nunique()"
   ]
  },
  {
   "cell_type": "code",
   "execution_count": 169,
   "id": "b68dfa6a",
   "metadata": {},
   "outputs": [
    {
     "data": {
      "text/plain": [
       "(141886,)"
      ]
     },
     "execution_count": 169,
     "metadata": {},
     "output_type": "execute_result"
    }
   ],
   "source": [
    "df.pdf.drop_duplicates().shape"
   ]
  },
  {
   "cell_type": "code",
   "execution_count": 170,
   "id": "595ae672",
   "metadata": {},
   "outputs": [
    {
     "data": {
      "text/plain": [
       "                                                                                      15324\n",
       "//static.aminer.org/pdf/PDF/000/831/798/book_review.pdf                                  10\n",
       "//static.aminer.org/pdf/PDF/000/737/991/editorial.pdf                                     8\n",
       "//static.aminer.org/pdf/PDF/000/840/383/book_reviews.pdf                                  6\n",
       "//static.aminer.org/pdf/PDF/000/889/226/preface.pdf                                       5\n",
       "                                                                                      ...  \n",
       "//static.aminer.org/pdf/PDF/000/560/826/coaching_advice_and_adaptation.pdf                1\n",
       "https://static.aminer.cn/upload/pdf/146/831/774/53e99a0fb7602d9702262d62_0.pdf            1\n",
       "//static.aminer.org/pdf/PDF/000/091/394/culture_and_collaborative_technologies.pdf        1\n",
       "https://static.aminer.cn/upload/pdf/138/831/774/53e99a0fb7602d9702262d5a_0.pdf            1\n",
       "https://static.aminer.cn/upload/pdf/779/311/1355/53e99eedb7602d97027b67fb_1.pdf           1\n",
       "Name: pdf, Length: 141884, dtype: int64"
      ]
     },
     "execution_count": 170,
     "metadata": {},
     "output_type": "execute_result"
    }
   ],
   "source": [
    "df.pdf.value_counts()"
   ]
  },
  {
   "cell_type": "markdown",
   "id": "91c29c71",
   "metadata": {},
   "source": [
    "# Краткая статистика по полям"
   ]
  },
  {
   "cell_type": "markdown",
   "id": "aa4bf022",
   "metadata": {},
   "source": [
    "<pre>\n",
    "_id - string, уникальное значение статьи\n",
    "title - string, название статьи\n",
    "venue - dict, информация о том, где была опубликована\n",
    "    - _id - id места публикации \n",
    "    - name_d - название места публикации\n",
    "    - дальше не понятно, возможные ключи можете увидеть выше\n",
    "year - int, год публикации\n",
    "keywords - list, ключивые слова статей\n",
    "n_citation - int, количество цитирований\n",
    "lang - string, язык\n",
    "authors - list[dict], информация об авторах\n",
    "    - смотреть статистику выше\n",
    "fos - list, очень похоже на keywords, но пока не могу точно характеризовать в чем разница\n",
    "page_start - int, номер страницы в публикации начиная с которой идет статья\n",
    "page_end - int, номер страницы в публикации на которой заканчивается статья\n",
    "volume - int, сколько лет статья уже публикуется\n",
    "issue - int, сколько раз была опубликована в течении данного year\n",
    "issn - string, уникальный номер, но есть не у всех\n",
    "isbn - string, тоже уникальный номер, но есть не у всех\n",
    "doi - string, тоже уникальный номер и тоже есть не у всех\n",
    "pdf - string, выглядит как ссылка на статью в aminer\n",
    "url - string, ссылка с использованием doi\n",
    "abstract - string, краткое описание статьи\n",
    "references - list[_id], id статей, которые цитировались в данной статье]\n",
    "</pre>"
   ]
  },
  {
   "cell_type": "code",
   "execution_count": null,
   "id": "00a28b64",
   "metadata": {},
   "outputs": [],
   "source": []
  }
 ],
 "metadata": {
  "kernelspec": {
   "display_name": "Python 3 (ipykernel)",
   "language": "python",
   "name": "python3"
  },
  "language_info": {
   "codemirror_mode": {
    "name": "ipython",
    "version": 3
   },
   "file_extension": ".py",
   "mimetype": "text/x-python",
   "name": "python",
   "nbconvert_exporter": "python",
   "pygments_lexer": "ipython3",
   "version": "3.9.7"
  }
 },
 "nbformat": 4,
 "nbformat_minor": 5
}
